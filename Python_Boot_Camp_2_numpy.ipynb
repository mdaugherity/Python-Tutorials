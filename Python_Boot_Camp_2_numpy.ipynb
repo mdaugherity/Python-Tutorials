{
  "nbformat": 4,
  "nbformat_minor": 0,
  "metadata": {
    "colab": {
      "name": "Python Boot Camp 2 - numpy",
      "provenance": [],
      "collapsed_sections": [],
      "authorship_tag": "ABX9TyMHOMQ9oGiA5WmIALjPM4/e",
      "include_colab_link": true
    },
    "kernelspec": {
      "name": "python3",
      "display_name": "Python 3"
    }
  },
  "cells": [
    {
      "cell_type": "markdown",
      "metadata": {
        "id": "view-in-github",
        "colab_type": "text"
      },
      "source": [
        "<a href=\"https://colab.research.google.com/github/mdaugherity/Python-Tutorials/blob/master/Python_Boot_Camp_2_numpy.ipynb\" target=\"_parent\"><img src=\"https://colab.research.google.com/assets/colab-badge.svg\" alt=\"Open In Colab\"/></a>"
      ]
    },
    {
      "cell_type": "markdown",
      "metadata": {
        "id": "U3pKwUEPiGsX",
        "colab_type": "text"
      },
      "source": [
        "# Python Boot Camp Lesson 2\n",
        "Thermo Fall 2020  \n",
        "\n",
        "Dr. Daugherity\n",
        "\n",
        "**Intro to numpy**\n"
      ]
    },
    {
      "cell_type": "code",
      "metadata": {
        "id": "GpmBoflqiYSe",
        "colab_type": "code",
        "colab": {
          "base_uri": "https://localhost:8080/",
          "height": 36
        },
        "outputId": "8c16b35a-93ab-4ef6-9083-bb1ec1a50c88"
      },
      "source": [
        "import numpy as np\n",
        "np.__version__"
      ],
      "execution_count": 1,
      "outputs": [
        {
          "output_type": "execute_result",
          "data": {
            "application/vnd.google.colaboratory.intrinsic+json": {
              "type": "string"
            },
            "text/plain": [
              "'1.18.5'"
            ]
          },
          "metadata": {
            "tags": []
          },
          "execution_count": 1
        }
      ]
    },
    {
      "cell_type": "markdown",
      "metadata": {
        "id": "LKL39bONj7nk",
        "colab_type": "text"
      },
      "source": [
        "# Creating Arrays\n",
        "In normal python we do **NOT** declare our variables before using them.\n",
        "\n",
        "In numpy, you **MUST** declare arrays before using them!!!!!!!!!\n"
      ]
    },
    {
      "cell_type": "code",
      "metadata": {
        "id": "iq5v8oCyj_Y4",
        "colab_type": "code",
        "colab": {
          "base_uri": "https://localhost:8080/",
          "height": 35
        },
        "outputId": "7a673ad0-49dd-4284-88f9-ad7a356997f2"
      },
      "source": [
        "x = np.array([1,2,17])\n",
        "print(x)"
      ],
      "execution_count": 3,
      "outputs": [
        {
          "output_type": "stream",
          "text": [
            "[ 1  2 17]\n"
          ],
          "name": "stdout"
        }
      ]
    },
    {
      "cell_type": "code",
      "metadata": {
        "id": "0TOVsXv1keF9",
        "colab_type": "code",
        "colab": {
          "base_uri": "https://localhost:8080/",
          "height": 54
        },
        "outputId": "23b2b97c-0f9b-431a-e920-4413ffa8091c"
      },
      "source": [
        "np.array( [(1,2,3), (4,5,6) ] )"
      ],
      "execution_count": 4,
      "outputs": [
        {
          "output_type": "execute_result",
          "data": {
            "text/plain": [
              "array([[1, 2, 3],\n",
              "       [4, 5, 6]])"
            ]
          },
          "metadata": {
            "tags": []
          },
          "execution_count": 4
        }
      ]
    },
    {
      "cell_type": "code",
      "metadata": {
        "id": "wP_vKEgWkzR4",
        "colab_type": "code",
        "colab": {
          "base_uri": "https://localhost:8080/",
          "height": 35
        },
        "outputId": "a6fae74a-28ae-4c2d-8d46-b807dda39b9d"
      },
      "source": [
        "np.zeros(5)"
      ],
      "execution_count": 5,
      "outputs": [
        {
          "output_type": "execute_result",
          "data": {
            "text/plain": [
              "array([0., 0., 0., 0., 0.])"
            ]
          },
          "metadata": {
            "tags": []
          },
          "execution_count": 5
        }
      ]
    },
    {
      "cell_type": "code",
      "metadata": {
        "id": "OCRM5OyOk6QF",
        "colab_type": "code",
        "colab": {
          "base_uri": "https://localhost:8080/",
          "height": 54
        },
        "outputId": "7a130d0a-0c0b-4631-da66-26a02743ee33"
      },
      "source": [
        "np.zeros( (2,3))  # create array with 2 rows, 3 cols"
      ],
      "execution_count": 6,
      "outputs": [
        {
          "output_type": "execute_result",
          "data": {
            "text/plain": [
              "array([[0., 0., 0.],\n",
              "       [0., 0., 0.]])"
            ]
          },
          "metadata": {
            "tags": []
          },
          "execution_count": 6
        }
      ]
    },
    {
      "cell_type": "code",
      "metadata": {
        "id": "ZdgXygewlPHf",
        "colab_type": "code",
        "colab": {
          "base_uri": "https://localhost:8080/",
          "height": 72
        },
        "outputId": "45bfcb99-829b-472f-f95d-bb4909bd7355"
      },
      "source": [
        "np.ones((3,1))"
      ],
      "execution_count": 8,
      "outputs": [
        {
          "output_type": "execute_result",
          "data": {
            "text/plain": [
              "array([[1.],\n",
              "       [1.],\n",
              "       [1.]])"
            ]
          },
          "metadata": {
            "tags": []
          },
          "execution_count": 8
        }
      ]
    },
    {
      "cell_type": "code",
      "metadata": {
        "id": "PkMm7AX9lVBr",
        "colab_type": "code",
        "colab": {
          "base_uri": "https://localhost:8080/",
          "height": 35
        },
        "outputId": "db427d94-9a3c-4097-ed39-47339eb423e6"
      },
      "source": [
        "np.arange(0, 10, 2)  # arange is JUST like range with for loops"
      ],
      "execution_count": 9,
      "outputs": [
        {
          "output_type": "execute_result",
          "data": {
            "text/plain": [
              "array([0, 2, 4, 6, 8])"
            ]
          },
          "metadata": {
            "tags": []
          },
          "execution_count": 9
        }
      ]
    },
    {
      "cell_type": "code",
      "metadata": {
        "id": "gTf_DFoClhLJ",
        "colab_type": "code",
        "colab": {
          "base_uri": "https://localhost:8080/",
          "height": 35
        },
        "outputId": "f14af8ca-6dcd-4d21-cca5-4c502ef4cbff"
      },
      "source": [
        "np.arange(10)"
      ],
      "execution_count": 10,
      "outputs": [
        {
          "output_type": "execute_result",
          "data": {
            "text/plain": [
              "array([0, 1, 2, 3, 4, 5, 6, 7, 8, 9])"
            ]
          },
          "metadata": {
            "tags": []
          },
          "execution_count": 10
        }
      ]
    },
    {
      "cell_type": "code",
      "metadata": {
        "id": "xn9iYN5jllcQ",
        "colab_type": "code",
        "colab": {
          "base_uri": "https://localhost:8080/",
          "height": 72
        },
        "outputId": "38317d27-d316-4dda-c975-b24a5682ce4e"
      },
      "source": [
        "np.linspace(0, 1, 17)"
      ],
      "execution_count": 11,
      "outputs": [
        {
          "output_type": "execute_result",
          "data": {
            "text/plain": [
              "array([0.    , 0.0625, 0.125 , 0.1875, 0.25  , 0.3125, 0.375 , 0.4375,\n",
              "       0.5   , 0.5625, 0.625 , 0.6875, 0.75  , 0.8125, 0.875 , 0.9375,\n",
              "       1.    ])"
            ]
          },
          "metadata": {
            "tags": []
          },
          "execution_count": 11
        }
      ]
    },
    {
      "cell_type": "markdown",
      "metadata": {
        "id": "nrAq3WQkmF2U",
        "colab_type": "text"
      },
      "source": [
        "# INDEXING ARRAYS\n"
      ]
    },
    {
      "cell_type": "code",
      "metadata": {
        "id": "nDEmjAjdmDFj",
        "colab_type": "code",
        "colab": {
          "base_uri": "https://localhost:8080/",
          "height": 35
        },
        "outputId": "412a53f0-8e39-42e4-e943-6afd9b2e78e1"
      },
      "source": [
        "x = np.linspace(0,8,9)\n",
        "print(x)"
      ],
      "execution_count": 13,
      "outputs": [
        {
          "output_type": "stream",
          "text": [
            "[0. 1. 2. 3. 4. 5. 6. 7. 8.]\n"
          ],
          "name": "stdout"
        }
      ]
    },
    {
      "cell_type": "code",
      "metadata": {
        "id": "y9Kxp2NRmSzZ",
        "colab_type": "code",
        "colab": {
          "base_uri": "https://localhost:8080/",
          "height": 35
        },
        "outputId": "c69a72d1-b64a-482a-b321-585c3b20eda3"
      },
      "source": [
        "x[1]"
      ],
      "execution_count": 15,
      "outputs": [
        {
          "output_type": "execute_result",
          "data": {
            "text/plain": [
              "1.0"
            ]
          },
          "metadata": {
            "tags": []
          },
          "execution_count": 15
        }
      ]
    },
    {
      "cell_type": "code",
      "metadata": {
        "id": "xnY9WUVUmfZH",
        "colab_type": "code",
        "colab": {
          "base_uri": "https://localhost:8080/",
          "height": 35
        },
        "outputId": "985ac7f4-05ea-4fbd-e823-6435480b39ce"
      },
      "source": [
        "x.shape  # tells you how many elements in rows and cols"
      ],
      "execution_count": 16,
      "outputs": [
        {
          "output_type": "execute_result",
          "data": {
            "text/plain": [
              "(9,)"
            ]
          },
          "metadata": {
            "tags": []
          },
          "execution_count": 16
        }
      ]
    },
    {
      "cell_type": "code",
      "metadata": {
        "id": "DNjPGnmvmhwk",
        "colab_type": "code",
        "colab": {
          "base_uri": "https://localhost:8080/",
          "height": 35
        },
        "outputId": "3d1b1270-9679-4423-f8f6-08b2ae1277ae"
      },
      "source": [
        "x.size  # number of elements in x"
      ],
      "execution_count": 20,
      "outputs": [
        {
          "output_type": "execute_result",
          "data": {
            "text/plain": [
              "9"
            ]
          },
          "metadata": {
            "tags": []
          },
          "execution_count": 20
        }
      ]
    },
    {
      "cell_type": "code",
      "metadata": {
        "id": "sRAGzcwlmrw8",
        "colab_type": "code",
        "colab": {
          "base_uri": "https://localhost:8080/",
          "height": 35
        },
        "outputId": "067624d5-9b38-4beb-f13a-b40f9ba0dc57"
      },
      "source": [
        "x[0:5]  # elements between 0 and 4"
      ],
      "execution_count": 21,
      "outputs": [
        {
          "output_type": "execute_result",
          "data": {
            "text/plain": [
              "array([0., 1., 2., 3., 4.])"
            ]
          },
          "metadata": {
            "tags": []
          },
          "execution_count": 21
        }
      ]
    },
    {
      "cell_type": "code",
      "metadata": {
        "id": "fQxLOB7mm_3t",
        "colab_type": "code",
        "colab": {
          "base_uri": "https://localhost:8080/",
          "height": 35
        },
        "outputId": "e0fdc93b-b1b6-4bc3-d437-cf951e1055f4"
      },
      "source": [
        "x[:5]"
      ],
      "execution_count": 22,
      "outputs": [
        {
          "output_type": "execute_result",
          "data": {
            "text/plain": [
              "array([0., 1., 2., 3., 4.])"
            ]
          },
          "metadata": {
            "tags": []
          },
          "execution_count": 22
        }
      ]
    },
    {
      "cell_type": "code",
      "metadata": {
        "id": "xX7p65ownIFe",
        "colab_type": "code",
        "colab": {
          "base_uri": "https://localhost:8080/",
          "height": 35
        },
        "outputId": "da55c708-d49d-471b-f5fb-4fff1372898e"
      },
      "source": [
        "x[6:]  # 6th element to the end"
      ],
      "execution_count": 23,
      "outputs": [
        {
          "output_type": "execute_result",
          "data": {
            "text/plain": [
              "array([6., 7., 8.])"
            ]
          },
          "metadata": {
            "tags": []
          },
          "execution_count": 23
        }
      ]
    },
    {
      "cell_type": "code",
      "metadata": {
        "id": "bd00BCx2nN_R",
        "colab_type": "code",
        "colab": {
          "base_uri": "https://localhost:8080/",
          "height": 35
        },
        "outputId": "d391c04e-7d27-4c2c-8219-3fe71e3cd985"
      },
      "source": [
        "x[-1]  # the last element"
      ],
      "execution_count": 25,
      "outputs": [
        {
          "output_type": "execute_result",
          "data": {
            "text/plain": [
              "8.0"
            ]
          },
          "metadata": {
            "tags": []
          },
          "execution_count": 25
        }
      ]
    },
    {
      "cell_type": "code",
      "metadata": {
        "id": "ydlpRerwnXHG",
        "colab_type": "code",
        "colab": {
          "base_uri": "https://localhost:8080/",
          "height": 54
        },
        "outputId": "208a3e41-fa07-41ac-e65d-379ed3bf7c7f"
      },
      "source": [
        "y = np.array( [(1,2,3), (4,5,6)])\n",
        "print(y)"
      ],
      "execution_count": 27,
      "outputs": [
        {
          "output_type": "stream",
          "text": [
            "[[1 2 3]\n",
            " [4 5 6]]\n"
          ],
          "name": "stdout"
        }
      ]
    },
    {
      "cell_type": "code",
      "metadata": {
        "id": "6Ehdmv0lng-K",
        "colab_type": "code",
        "colab": {
          "base_uri": "https://localhost:8080/",
          "height": 35
        },
        "outputId": "fd590163-368d-4f17-cdc6-d56e9f62198b"
      },
      "source": [
        "y[0, 2]  # row 0, col 2"
      ],
      "execution_count": 30,
      "outputs": [
        {
          "output_type": "execute_result",
          "data": {
            "text/plain": [
              "3"
            ]
          },
          "metadata": {
            "tags": []
          },
          "execution_count": 30
        }
      ]
    },
    {
      "cell_type": "code",
      "metadata": {
        "id": "_Lb_navkns9-",
        "colab_type": "code",
        "colab": {
          "base_uri": "https://localhost:8080/",
          "height": 35
        },
        "outputId": "15c204f5-5c05-4c66-ad81-bc3c22a3130e"
      },
      "source": [
        "y[:, 1]  # all rows in col 1"
      ],
      "execution_count": 31,
      "outputs": [
        {
          "output_type": "execute_result",
          "data": {
            "text/plain": [
              "array([2, 5])"
            ]
          },
          "metadata": {
            "tags": []
          },
          "execution_count": 31
        }
      ]
    },
    {
      "cell_type": "code",
      "metadata": {
        "id": "cb2Wn6H3n2TS",
        "colab_type": "code",
        "colab": {
          "base_uri": "https://localhost:8080/",
          "height": 35
        },
        "outputId": "498b53cc-28ee-4c5a-ea93-9c7ce19d435e"
      },
      "source": [
        "y[1:,2]   "
      ],
      "execution_count": 36,
      "outputs": [
        {
          "output_type": "execute_result",
          "data": {
            "text/plain": [
              "array([6])"
            ]
          },
          "metadata": {
            "tags": []
          },
          "execution_count": 36
        }
      ]
    },
    {
      "cell_type": "markdown",
      "metadata": {
        "id": "ANRZq_0CoH5E",
        "colab_type": "text"
      },
      "source": [
        "# LOOPING OVER ARRAYS!\n"
      ]
    },
    {
      "cell_type": "code",
      "metadata": {
        "id": "9om7HHMyoLDh",
        "colab_type": "code",
        "colab": {
          "base_uri": "https://localhost:8080/",
          "height": 201
        },
        "outputId": "16699b77-16d1-418f-f62e-5fcf6df26a94"
      },
      "source": [
        "# you often DONT have to loop, you can operate on the entire array\n",
        "x = np.linspace(0,10,50)\n",
        "np.sin(x)"
      ],
      "execution_count": 39,
      "outputs": [
        {
          "output_type": "execute_result",
          "data": {
            "text/plain": [
              "array([ 0.        ,  0.20266794,  0.39692415,  0.57470604,  0.72863478,\n",
              "        0.85232157,  0.94063279,  0.98990308,  0.99808748,  0.96484631,\n",
              "        0.89155923,  0.78126802,  0.63855032,  0.46932961,  0.2806294 ,\n",
              "        0.08028167, -0.12339814, -0.32195632, -0.50715171, -0.67129779,\n",
              "       -0.80758169, -0.91034694, -0.97532829, -0.99982867, -0.9828312 ,\n",
              "       -0.92504137, -0.82885774, -0.6982724 , -0.53870529, -0.35677924,\n",
              "       -0.16004509,  0.04333173,  0.24491007,  0.43632343,  0.6096272 ,\n",
              "        0.75762842,  0.8741843 ,  0.9544572 ,  0.99511539,  0.99447137,\n",
              "        0.95255185,  0.8710967 ,  0.75348673,  0.60460332,  0.43062587,\n",
              "        0.23877532,  0.0370144 , -0.16628279, -0.36267843, -0.54402111])"
            ]
          },
          "metadata": {
            "tags": []
          },
          "execution_count": 39
        }
      ]
    },
    {
      "cell_type": "code",
      "metadata": {
        "id": "WUMpPyzsoeq8",
        "colab_type": "code",
        "colab": {
          "base_uri": "https://localhost:8080/",
          "height": 72
        },
        "outputId": "dbec2f8b-c43b-4fd6-fc74-28f5dd2f56d2"
      },
      "source": [
        "x = np.linspace(0,10,3)\n",
        "for val in x:\n",
        "  print(val)"
      ],
      "execution_count": 40,
      "outputs": [
        {
          "output_type": "stream",
          "text": [
            "0.0\n",
            "5.0\n",
            "10.0\n"
          ],
          "name": "stdout"
        }
      ]
    },
    {
      "cell_type": "code",
      "metadata": {
        "id": "p5jmUuaAotic",
        "colab_type": "code",
        "colab": {
          "base_uri": "https://localhost:8080/",
          "height": 72
        },
        "outputId": "076d48db-cd4d-409f-c584-90806650b86e"
      },
      "source": [
        "# pretty gross\n",
        "for i in range(len(x)):\n",
        "  print(x[i])"
      ],
      "execution_count": 42,
      "outputs": [
        {
          "output_type": "stream",
          "text": [
            "0.0\n",
            "5.0\n",
            "10.0\n"
          ],
          "name": "stdout"
        }
      ]
    },
    {
      "cell_type": "code",
      "metadata": {
        "id": "0EKLcoXno483",
        "colab_type": "code",
        "colab": {
          "base_uri": "https://localhost:8080/",
          "height": 72
        },
        "outputId": "8a8d53d1-1503-45de-c654-a2cafd07517b"
      },
      "source": [
        "for i,val in enumerate(x):\n",
        "  print(f\"index {i}, value {val}\")"
      ],
      "execution_count": 44,
      "outputs": [
        {
          "output_type": "stream",
          "text": [
            "index 0, value 0.0\n",
            "index 1, value 5.0\n",
            "index 2, value 10.0\n"
          ],
          "name": "stdout"
        }
      ]
    }
  ]
}