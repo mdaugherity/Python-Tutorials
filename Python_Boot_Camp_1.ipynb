{
  "nbformat": 4,
  "nbformat_minor": 0,
  "metadata": {
    "colab": {
      "name": "Python Boot Camp 1",
      "provenance": [],
      "collapsed_sections": [],
      "authorship_tag": "ABX9TyPXaFQV6BqDt5WPV0miUW/t",
      "include_colab_link": true
    },
    "kernelspec": {
      "name": "python3",
      "display_name": "Python 3"
    }
  },
  "cells": [
    {
      "cell_type": "markdown",
      "metadata": {
        "id": "view-in-github",
        "colab_type": "text"
      },
      "source": [
        "<a href=\"https://colab.research.google.com/github/mdaugherity/Python-Tutorials/blob/master/Python_Boot_Camp_1.ipynb\" target=\"_parent\"><img src=\"https://colab.research.google.com/assets/colab-badge.svg\" alt=\"Open In Colab\"/></a>"
      ]
    },
    {
      "cell_type": "markdown",
      "metadata": {
        "id": "A0hbdRvoZNfS",
        "colab_type": "text"
      },
      "source": [
        ""
      ]
    },
    {
      "cell_type": "markdown",
      "metadata": {
        "id": "olxZ1VdkZOuu",
        "colab_type": "text"
      },
      "source": [
        "# PYTHON BOOT CAMP\n",
        "## Intro to pyton and google colab\n",
        "\n",
        "Thermo Fall 2020\n",
        "Dr. Daugherity\n",
        "\n"
      ]
    },
    {
      "cell_type": "markdown",
      "metadata": {
        "id": "13-YJOz3YPBA",
        "colab_type": "text"
      },
      "source": [
        "These are examples of markdown commands\n",
        "# BIG TITLE\n",
        "## LESS BIG TITLE\n",
        "###### Pretty small title\n",
        "\n",
        "\n",
        "*Python Boot Camp*\n",
        "\n",
        "**BOLD**\n",
        "\n",
        "Lets go to [GOOGLE](www.google.com)\n",
        "* Item 1\n",
        "* Item 2\n",
        "  * Item 2a\n",
        "  * Item 2b\n",
        "\n",
        "1. Item 1\n",
        "1. Item 2\n",
        "1. Item 3\n",
        "   1. Item 3a\n",
        "   1. Item 3b\n",
        "\n",
        "\n"
      ]
    },
    {
      "cell_type": "markdown",
      "metadata": {
        "id": "ho3Y_Fl2Z3Ra",
        "colab_type": "text"
      },
      "source": [
        "## Rules For Python\n",
        "1.  Whitespace matters!\n",
        "2.  \"Duck\" typing\n",
        "3.  EVERYTHING is an OBJECT"
      ]
    },
    {
      "cell_type": "code",
      "metadata": {
        "id": "3X6kjuCeYBbb",
        "colab_type": "code",
        "colab": {}
      },
      "source": [
        "a = 1\n",
        "b = 2  # can't leave blank spaces at beginning of lines\n",
        "\n",
        "a = 1\n",
        "a = 'Hello'\n",
        "a = [1, 2, 'ASDFASDF', 3]\n",
        "\n"
      ],
      "execution_count": 2,
      "outputs": []
    },
    {
      "cell_type": "markdown",
      "metadata": {
        "id": "MmU5BcMFa_2Q",
        "colab_type": "text"
      },
      "source": [
        "# LOGIC"
      ]
    },
    {
      "cell_type": "code",
      "metadata": {
        "id": "ZBSJxDwFbCwP",
        "colab_type": "code",
        "colab": {
          "base_uri": "https://localhost:8080/",
          "height": 35
        },
        "outputId": "f2394884-180a-479e-c64c-35af1889b5f0"
      },
      "source": [
        "x = -10\n",
        "if x > 0:\n",
        "  print(\"Positive\")\n",
        "elif x==0: \n",
        "  print(\"ZERO\")\n",
        "else: \n",
        "  print(\"Negative\")\n"
      ],
      "execution_count": 22,
      "outputs": [
        {
          "output_type": "stream",
          "text": [
            "Negative\n"
          ],
          "name": "stdout"
        }
      ]
    },
    {
      "cell_type": "markdown",
      "metadata": {
        "id": "wAFNrPY1cuBX",
        "colab_type": "text"
      },
      "source": [
        "# LOOPS\n",
        "WARNING:  for loops **ONLY** work on LISTS!!!!"
      ]
    },
    {
      "cell_type": "code",
      "metadata": {
        "id": "DJDJA81WczwA",
        "colab_type": "code",
        "colab": {
          "base_uri": "https://localhost:8080/",
          "height": 91
        },
        "outputId": "753fde4a-f390-440d-ae1e-094cecd6f443"
      },
      "source": [
        "for i in [0,1,2,17]:\n",
        "  print(i)\n",
        "  "
      ],
      "execution_count": 23,
      "outputs": [
        {
          "output_type": "stream",
          "text": [
            "0\n",
            "1\n",
            "2\n",
            "17\n"
          ],
          "name": "stdout"
        }
      ]
    },
    {
      "cell_type": "code",
      "metadata": {
        "id": "qoqLk5gndSiI",
        "colab_type": "code",
        "colab": {
          "base_uri": "https://localhost:8080/",
          "height": 72
        },
        "outputId": "b4e02f6f-4e65-4bd4-94f4-93047da8a0b4"
      },
      "source": [
        "for i in range(3):  # NOTICE that 3 is NOT INCLUDED!\n",
        "  print(i)"
      ],
      "execution_count": 28,
      "outputs": [
        {
          "output_type": "stream",
          "text": [
            "0\n",
            "1\n",
            "2\n"
          ],
          "name": "stdout"
        }
      ]
    },
    {
      "cell_type": "code",
      "metadata": {
        "id": "UbWxWxb_dqh9",
        "colab_type": "code",
        "colab": {
          "base_uri": "https://localhost:8080/",
          "height": 72
        },
        "outputId": "9f532580-7c5b-465c-a5c9-510e9e4b5d9f"
      },
      "source": [
        "for i in range(10,15,2):\n",
        "  print(i)"
      ],
      "execution_count": 27,
      "outputs": [
        {
          "output_type": "stream",
          "text": [
            "10\n",
            "12\n",
            "14\n"
          ],
          "name": "stdout"
        }
      ]
    },
    {
      "cell_type": "code",
      "metadata": {
        "id": "xkOREZfOeUYi",
        "colab_type": "code",
        "colab": {
          "base_uri": "https://localhost:8080/",
          "height": 91
        },
        "outputId": "333caac4-e8c0-4592-8161-140dc33ce417"
      },
      "source": [
        "i=3\n",
        "while i>=0:\n",
        "  print(i)\n",
        "  i-=1\n"
      ],
      "execution_count": 31,
      "outputs": [
        {
          "output_type": "stream",
          "text": [
            "3\n",
            "2\n",
            "1\n",
            "0\n"
          ],
          "name": "stdout"
        }
      ]
    },
    {
      "cell_type": "markdown",
      "metadata": {
        "id": "z-sHcUJlfAxY",
        "colab_type": "text"
      },
      "source": [
        "# OUTPUT"
      ]
    },
    {
      "cell_type": "code",
      "metadata": {
        "id": "lnmlvXvefDww",
        "colab_type": "code",
        "colab": {
          "base_uri": "https://localhost:8080/",
          "height": 146
        },
        "outputId": "4373fb6c-7571-4ac5-c805-b395b95bd567"
      },
      "source": [
        "p = 3.1416\n",
        "\n",
        "print(p)\n",
        "\n",
        "# Use the power of python f-strings\n",
        "print(f\"The value of pi is {p}\")\n",
        "print(f\"The value of pi is {p:5.3f}\")  # width 5, 3 demical places\n",
        "print(f\"The value of pi is {p:10.6f}\") # width 10, 6 demical places\n",
        "print(f\"The value of pi is {p:1.0f}\")\n",
        "print(f\"The value of pi is {p:5.3e}\")\n",
        "big = 123456789\n",
        "print(f\"The value of pi is {big:,}\")"
      ],
      "execution_count": 43,
      "outputs": [
        {
          "output_type": "stream",
          "text": [
            "3.1416\n",
            "The value of pi is 3.1416\n",
            "The value of pi is 3.142\n",
            "The value of pi is   3.141600\n",
            "The value of pi is 3\n",
            "The value of pi is 3.142e+00\n",
            "The value of pi is 123,456,789\n"
          ],
          "name": "stdout"
        }
      ]
    }
  ]
}